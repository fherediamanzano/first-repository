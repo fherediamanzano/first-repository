{
 "cells": [
  {
   "cell_type": "markdown",
   "id": "c353cc69",
   "metadata": {},
   "source": [
    "# Heredia Francisco\n",
    "### Comisión: 19150 Data Science\n",
    "### Tutor:\n",
    "### Desafio entregable: Funciones con Array\n",
    "### Consigna: Prácticas con Array en Numpy\n"
   ]
  },
  {
   "cell_type": "code",
   "execution_count": 1,
   "id": "1ead4a35",
   "metadata": {},
   "outputs": [
    {
     "data": {
      "text/plain": [
       "6"
      ]
     },
     "execution_count": 1,
     "metadata": {},
     "output_type": "execute_result"
    }
   ],
   "source": [
    "def factorizar(x): #definimos funcion\n",
    "    fac=1\n",
    "    for i in range(1,(x+1)): #Operación de la función\n",
    "        fac*=i\n",
    "    return(fac)\n",
    "    \n",
    "\n",
    "factorizar(3) #prueba con un número cualquiera"
   ]
  },
  {
   "cell_type": "code",
   "execution_count": 2,
   "id": "51df508b",
   "metadata": {},
   "outputs": [
    {
     "data": {
      "text/plain": [
       "120"
      ]
     },
     "execution_count": 2,
     "metadata": {},
     "output_type": "execute_result"
    }
   ],
   "source": [
    "factorizar(5) #segunda prueba con un número cualquiera"
   ]
  },
  {
   "cell_type": "code",
   "execution_count": 3,
   "id": "0f74734d",
   "metadata": {},
   "outputs": [
    {
     "data": {
      "text/plain": [
       "6"
      ]
     },
     "execution_count": 3,
     "metadata": {},
     "output_type": "execute_result"
    }
   ],
   "source": [
    "def SumarNumerosEntre(x,y): #definimos las función\n",
    "    sum=0\n",
    "    if y>x: #condicional para asegurar la operación\n",
    "        for i in range(x,(y+1)):\n",
    "            sum+=i\n",
    "        return(sum)\n",
    "    else: #mensaje en caso de error\n",
    "        return(\"Segundo argumento debe ser mayor al primero\")\n",
    "\n",
    "SumarNumerosEntre(0,3) #prueba con dos numeros"
   ]
  },
  {
   "cell_type": "code",
   "execution_count": 4,
   "id": "4ffe08dd",
   "metadata": {},
   "outputs": [
    {
     "data": {
      "text/plain": [
       "'Segundo argumento debe ser mayor al primero'"
      ]
     },
     "execution_count": 4,
     "metadata": {},
     "output_type": "execute_result"
    }
   ],
   "source": [
    "SumarNumerosEntre(10,3) #prueba con error"
   ]
  },
  {
   "cell_type": "code",
   "execution_count": null,
   "id": "1eb0682f",
   "metadata": {},
   "outputs": [],
   "source": []
  }
 ],
 "metadata": {
  "kernelspec": {
   "display_name": "Python 3 (ipykernel)",
   "language": "python",
   "name": "python3"
  },
  "language_info": {
   "codemirror_mode": {
    "name": "ipython",
    "version": 3
   },
   "file_extension": ".py",
   "mimetype": "text/x-python",
   "name": "python",
   "nbconvert_exporter": "python",
   "pygments_lexer": "ipython3",
   "version": "3.9.5"
  }
 },
 "nbformat": 4,
 "nbformat_minor": 5
}
