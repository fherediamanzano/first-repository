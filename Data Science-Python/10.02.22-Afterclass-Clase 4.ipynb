{
 "cells": [
  {
   "cell_type": "markdown",
   "id": "faa62d2b",
   "metadata": {},
   "source": [
    "# Ejercicios after class 10.2.22\n"
   ]
  },
  {
   "cell_type": "markdown",
   "id": "64a48520",
   "metadata": {},
   "source": [
    "###### Llamo a la librería"
   ]
  },
  {
   "cell_type": "code",
   "execution_count": 1,
   "id": "277b3f7b",
   "metadata": {},
   "outputs": [],
   "source": [
    "import numpy as np"
   ]
  },
  {
   "cell_type": "markdown",
   "id": "a701d062",
   "metadata": {},
   "source": [
    "###### Armo la copia en drive directamente"
   ]
  },
  {
   "cell_type": "code",
   "execution_count": null,
   "id": "63d59cb5",
   "metadata": {},
   "outputs": [],
   "source": []
  },
  {
   "cell_type": "code",
   "execution_count": null,
   "id": "615f6f13",
   "metadata": {},
   "outputs": [],
   "source": []
  }
 ],
 "metadata": {
  "kernelspec": {
   "display_name": "Python 3 (ipykernel)",
   "language": "python",
   "name": "python3"
  },
  "language_info": {
   "codemirror_mode": {
    "name": "ipython",
    "version": 3
   },
   "file_extension": ".py",
   "mimetype": "text/x-python",
   "name": "python",
   "nbconvert_exporter": "python",
   "pygments_lexer": "ipython3",
   "version": "3.9.5"
  }
 },
 "nbformat": 4,
 "nbformat_minor": 5
}
