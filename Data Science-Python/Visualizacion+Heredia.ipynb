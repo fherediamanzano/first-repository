{
 "cells": [
  {
   "cell_type": "markdown",
   "id": "3a0ece38",
   "metadata": {},
   "source": [
    "# Heredia Francisco\n",
    "### Comisión: 19150 Data Science\n",
    "### Tutor: Gustavo Bitocchi\n",
    "### Desafio entregable: Visualización en Python\n",
    "### Consigna: Practicas en visualizaciones"
   ]
  },
  {
   "cell_type": "markdown",
   "id": "29ce1b1f",
   "metadata": {},
   "source": [
    "#### Primero importo librerias"
   ]
  },
  {
   "cell_type": "code",
   "execution_count": 1,
   "id": "aca1e8b0",
   "metadata": {},
   "outputs": [],
   "source": [
    "import matplotlib as mpl\n",
    "import matplotlib.pyplot as plt\n",
    "import seaborn as sns\n",
    "import pandas as pd"
   ]
  },
  {
   "cell_type": "markdown",
   "id": "450a76b4",
   "metadata": {},
   "source": [
    "#### Agrego estilo 'seaborn' a los gráficos"
   ]
  },
  {
   "cell_type": "code",
   "execution_count": 2,
   "id": "a7b7c3f9",
   "metadata": {},
   "outputs": [],
   "source": [
    "sns.set()"
   ]
  },
  {
   "cell_type": "markdown",
   "id": "eb1477c7",
   "metadata": {},
   "source": [
    "#### Cargo el dataset con el que voy a trabajar"
   ]
  },
  {
   "cell_type": "code",
   "execution_count": 3,
   "id": "9fe4ef0b",
   "metadata": {},
   "outputs": [
    {
     "data": {
      "text/html": [
       "<div>\n",
       "<style scoped>\n",
       "    .dataframe tbody tr th:only-of-type {\n",
       "        vertical-align: middle;\n",
       "    }\n",
       "\n",
       "    .dataframe tbody tr th {\n",
       "        vertical-align: top;\n",
       "    }\n",
       "\n",
       "    .dataframe thead th {\n",
       "        text-align: right;\n",
       "    }\n",
       "</style>\n",
       "<table border=\"1\" class=\"dataframe\">\n",
       "  <thead>\n",
       "    <tr style=\"text-align: right;\">\n",
       "      <th></th>\n",
       "      <th>Employee_Name</th>\n",
       "      <th>EmpID</th>\n",
       "      <th>MarriedID</th>\n",
       "      <th>MaritalStatusID</th>\n",
       "      <th>GenderID</th>\n",
       "      <th>EmpStatusID</th>\n",
       "      <th>DeptID</th>\n",
       "      <th>PerfScoreID</th>\n",
       "      <th>FromDiversityJobFairID</th>\n",
       "      <th>Salary</th>\n",
       "      <th>...</th>\n",
       "      <th>ManagerName</th>\n",
       "      <th>ManagerID</th>\n",
       "      <th>RecruitmentSource</th>\n",
       "      <th>PerformanceScore</th>\n",
       "      <th>EngagementSurvey</th>\n",
       "      <th>EmpSatisfaction</th>\n",
       "      <th>SpecialProjectsCount</th>\n",
       "      <th>LastPerformanceReview_Date</th>\n",
       "      <th>DaysLateLast30</th>\n",
       "      <th>Absences</th>\n",
       "    </tr>\n",
       "  </thead>\n",
       "  <tbody>\n",
       "    <tr>\n",
       "      <th>0</th>\n",
       "      <td>Adinolfi, Wilson  K</td>\n",
       "      <td>10026</td>\n",
       "      <td>0</td>\n",
       "      <td>0</td>\n",
       "      <td>1</td>\n",
       "      <td>1</td>\n",
       "      <td>5</td>\n",
       "      <td>4</td>\n",
       "      <td>0</td>\n",
       "      <td>62506</td>\n",
       "      <td>...</td>\n",
       "      <td>Michael Albert</td>\n",
       "      <td>22.0</td>\n",
       "      <td>LinkedIn</td>\n",
       "      <td>Exceeds</td>\n",
       "      <td>4.60</td>\n",
       "      <td>5</td>\n",
       "      <td>0</td>\n",
       "      <td>1/17/2019</td>\n",
       "      <td>0</td>\n",
       "      <td>1</td>\n",
       "    </tr>\n",
       "    <tr>\n",
       "      <th>1</th>\n",
       "      <td>Ait Sidi, Karthikeyan</td>\n",
       "      <td>10084</td>\n",
       "      <td>1</td>\n",
       "      <td>1</td>\n",
       "      <td>1</td>\n",
       "      <td>5</td>\n",
       "      <td>3</td>\n",
       "      <td>3</td>\n",
       "      <td>0</td>\n",
       "      <td>104437</td>\n",
       "      <td>...</td>\n",
       "      <td>Simon Roup</td>\n",
       "      <td>4.0</td>\n",
       "      <td>Indeed</td>\n",
       "      <td>Fully Meets</td>\n",
       "      <td>4.96</td>\n",
       "      <td>3</td>\n",
       "      <td>6</td>\n",
       "      <td>2/24/2016</td>\n",
       "      <td>0</td>\n",
       "      <td>17</td>\n",
       "    </tr>\n",
       "    <tr>\n",
       "      <th>2</th>\n",
       "      <td>Akinkuolie, Sarah</td>\n",
       "      <td>10196</td>\n",
       "      <td>1</td>\n",
       "      <td>1</td>\n",
       "      <td>0</td>\n",
       "      <td>5</td>\n",
       "      <td>5</td>\n",
       "      <td>3</td>\n",
       "      <td>0</td>\n",
       "      <td>64955</td>\n",
       "      <td>...</td>\n",
       "      <td>Kissy Sullivan</td>\n",
       "      <td>20.0</td>\n",
       "      <td>LinkedIn</td>\n",
       "      <td>Fully Meets</td>\n",
       "      <td>3.02</td>\n",
       "      <td>3</td>\n",
       "      <td>0</td>\n",
       "      <td>5/15/2012</td>\n",
       "      <td>0</td>\n",
       "      <td>3</td>\n",
       "    </tr>\n",
       "    <tr>\n",
       "      <th>3</th>\n",
       "      <td>Alagbe,Trina</td>\n",
       "      <td>10088</td>\n",
       "      <td>1</td>\n",
       "      <td>1</td>\n",
       "      <td>0</td>\n",
       "      <td>1</td>\n",
       "      <td>5</td>\n",
       "      <td>3</td>\n",
       "      <td>0</td>\n",
       "      <td>64991</td>\n",
       "      <td>...</td>\n",
       "      <td>Elijiah Gray</td>\n",
       "      <td>16.0</td>\n",
       "      <td>Indeed</td>\n",
       "      <td>Fully Meets</td>\n",
       "      <td>4.84</td>\n",
       "      <td>5</td>\n",
       "      <td>0</td>\n",
       "      <td>1/3/2019</td>\n",
       "      <td>0</td>\n",
       "      <td>15</td>\n",
       "    </tr>\n",
       "    <tr>\n",
       "      <th>4</th>\n",
       "      <td>Anderson, Carol</td>\n",
       "      <td>10069</td>\n",
       "      <td>0</td>\n",
       "      <td>2</td>\n",
       "      <td>0</td>\n",
       "      <td>5</td>\n",
       "      <td>5</td>\n",
       "      <td>3</td>\n",
       "      <td>0</td>\n",
       "      <td>50825</td>\n",
       "      <td>...</td>\n",
       "      <td>Webster Butler</td>\n",
       "      <td>39.0</td>\n",
       "      <td>Google Search</td>\n",
       "      <td>Fully Meets</td>\n",
       "      <td>5.00</td>\n",
       "      <td>4</td>\n",
       "      <td>0</td>\n",
       "      <td>2/1/2016</td>\n",
       "      <td>0</td>\n",
       "      <td>2</td>\n",
       "    </tr>\n",
       "  </tbody>\n",
       "</table>\n",
       "<p>5 rows × 36 columns</p>\n",
       "</div>"
      ],
      "text/plain": [
       "              Employee_Name  EmpID  MarriedID  MaritalStatusID  GenderID  \\\n",
       "0       Adinolfi, Wilson  K  10026          0                0         1   \n",
       "1  Ait Sidi, Karthikeyan     10084          1                1         1   \n",
       "2         Akinkuolie, Sarah  10196          1                1         0   \n",
       "3              Alagbe,Trina  10088          1                1         0   \n",
       "4          Anderson, Carol   10069          0                2         0   \n",
       "\n",
       "   EmpStatusID  DeptID  PerfScoreID  FromDiversityJobFairID  Salary  ...  \\\n",
       "0            1       5            4                       0   62506  ...   \n",
       "1            5       3            3                       0  104437  ...   \n",
       "2            5       5            3                       0   64955  ...   \n",
       "3            1       5            3                       0   64991  ...   \n",
       "4            5       5            3                       0   50825  ...   \n",
       "\n",
       "      ManagerName  ManagerID RecruitmentSource PerformanceScore  \\\n",
       "0  Michael Albert       22.0          LinkedIn          Exceeds   \n",
       "1      Simon Roup        4.0            Indeed      Fully Meets   \n",
       "2  Kissy Sullivan       20.0          LinkedIn      Fully Meets   \n",
       "3    Elijiah Gray       16.0            Indeed      Fully Meets   \n",
       "4  Webster Butler       39.0     Google Search      Fully Meets   \n",
       "\n",
       "   EngagementSurvey EmpSatisfaction SpecialProjectsCount  \\\n",
       "0              4.60               5                    0   \n",
       "1              4.96               3                    6   \n",
       "2              3.02               3                    0   \n",
       "3              4.84               5                    0   \n",
       "4              5.00               4                    0   \n",
       "\n",
       "  LastPerformanceReview_Date DaysLateLast30 Absences  \n",
       "0                  1/17/2019              0        1  \n",
       "1                  2/24/2016              0       17  \n",
       "2                  5/15/2012              0        3  \n",
       "3                   1/3/2019              0       15  \n",
       "4                   2/1/2016              0        2  \n",
       "\n",
       "[5 rows x 36 columns]"
      ]
     },
     "execution_count": 3,
     "metadata": {},
     "output_type": "execute_result"
    }
   ],
   "source": [
    "df_HR = pd.read_csv('HRDataset_v14.csv')\n",
    "df_HR.head()"
   ]
  },
  {
   "cell_type": "markdown",
   "id": "4fbdf55e",
   "metadata": {},
   "source": [
    "#### Primero saco el año para ver la evolución"
   ]
  },
  {
   "cell_type": "code",
   "execution_count": 4,
   "id": "d78eb317",
   "metadata": {},
   "outputs": [
    {
     "data": {
      "text/plain": [
       "0       7/5/2011\n",
       "1      3/30/2015\n",
       "2       7/5/2011\n",
       "3       1/7/2008\n",
       "4      7/11/2011\n",
       "         ...    \n",
       "306     7/7/2014\n",
       "307     9/2/2008\n",
       "308    4/10/2010\n",
       "309    3/30/2015\n",
       "310    9/29/2014\n",
       "Name: DateofHire, Length: 311, dtype: object"
      ]
     },
     "execution_count": 4,
     "metadata": {},
     "output_type": "execute_result"
    }
   ],
   "source": [
    "df_HR['DateofHire']"
   ]
  },
  {
   "cell_type": "markdown",
   "id": "7b4c3971",
   "metadata": {},
   "source": [
    "#### Convierto a formato fecha"
   ]
  },
  {
   "cell_type": "code",
   "execution_count": 5,
   "id": "6557ff3b",
   "metadata": {},
   "outputs": [
    {
     "data": {
      "text/plain": [
       "0     2011-07-05\n",
       "1     2015-03-30\n",
       "2     2011-07-05\n",
       "3     2008-01-07\n",
       "4     2011-07-11\n",
       "         ...    \n",
       "306   2014-07-07\n",
       "307   2008-09-02\n",
       "308   2010-04-10\n",
       "309   2015-03-30\n",
       "310   2014-09-29\n",
       "Name: DateofHire, Length: 311, dtype: datetime64[ns]"
      ]
     },
     "execution_count": 5,
     "metadata": {},
     "output_type": "execute_result"
    }
   ],
   "source": [
    "df_HR['DateofHire'] = pd.to_datetime(df_HR['DateofHire'])\n",
    "df_HR['DateofHire']"
   ]
  },
  {
   "cell_type": "markdown",
   "id": "7378d4f7",
   "metadata": {},
   "source": [
    "#### Armo columna año"
   ]
  },
  {
   "cell_type": "code",
   "execution_count": 6,
   "id": "12c54a54",
   "metadata": {},
   "outputs": [
    {
     "data": {
      "text/plain": [
       "0      2011\n",
       "1      2015\n",
       "2      2011\n",
       "3      2008\n",
       "4      2011\n",
       "       ... \n",
       "306    2014\n",
       "307    2008\n",
       "308    2010\n",
       "309    2015\n",
       "310    2014\n",
       "Name: Year, Length: 311, dtype: int64"
      ]
     },
     "execution_count": 6,
     "metadata": {},
     "output_type": "execute_result"
    }
   ],
   "source": [
    "df_HR['Year'] = df_HR['DateofHire'].dt.year \n",
    "df_HR['Year']"
   ]
  },
  {
   "cell_type": "markdown",
   "id": "fb413aa9",
   "metadata": {},
   "source": [
    "#### 1)Descripción general; estadísticas descriptivas básicas"
   ]
  },
  {
   "cell_type": "code",
   "execution_count": 7,
   "id": "9f4ba0ce",
   "metadata": {},
   "outputs": [
    {
     "data": {
      "text/html": [
       "<div>\n",
       "<style scoped>\n",
       "    .dataframe tbody tr th:only-of-type {\n",
       "        vertical-align: middle;\n",
       "    }\n",
       "\n",
       "    .dataframe tbody tr th {\n",
       "        vertical-align: top;\n",
       "    }\n",
       "\n",
       "    .dataframe thead th {\n",
       "        text-align: right;\n",
       "    }\n",
       "</style>\n",
       "<table border=\"1\" class=\"dataframe\">\n",
       "  <thead>\n",
       "    <tr style=\"text-align: right;\">\n",
       "      <th></th>\n",
       "      <th>EmpID</th>\n",
       "      <th>MarriedID</th>\n",
       "      <th>MaritalStatusID</th>\n",
       "      <th>GenderID</th>\n",
       "      <th>EmpStatusID</th>\n",
       "      <th>DeptID</th>\n",
       "      <th>PerfScoreID</th>\n",
       "      <th>FromDiversityJobFairID</th>\n",
       "      <th>Salary</th>\n",
       "      <th>Termd</th>\n",
       "      <th>PositionID</th>\n",
       "      <th>Zip</th>\n",
       "      <th>ManagerID</th>\n",
       "      <th>EngagementSurvey</th>\n",
       "      <th>EmpSatisfaction</th>\n",
       "      <th>SpecialProjectsCount</th>\n",
       "      <th>DaysLateLast30</th>\n",
       "      <th>Absences</th>\n",
       "      <th>Year</th>\n",
       "    </tr>\n",
       "  </thead>\n",
       "  <tbody>\n",
       "    <tr>\n",
       "      <th>count</th>\n",
       "      <td>311.000000</td>\n",
       "      <td>311.000000</td>\n",
       "      <td>311.000000</td>\n",
       "      <td>311.000000</td>\n",
       "      <td>311.000000</td>\n",
       "      <td>311.000000</td>\n",
       "      <td>311.000000</td>\n",
       "      <td>311.000000</td>\n",
       "      <td>311.000000</td>\n",
       "      <td>311.000000</td>\n",
       "      <td>311.000000</td>\n",
       "      <td>311.000000</td>\n",
       "      <td>303.000000</td>\n",
       "      <td>311.000000</td>\n",
       "      <td>311.000000</td>\n",
       "      <td>311.000000</td>\n",
       "      <td>311.000000</td>\n",
       "      <td>311.000000</td>\n",
       "      <td>311.000000</td>\n",
       "    </tr>\n",
       "    <tr>\n",
       "      <th>mean</th>\n",
       "      <td>10156.000000</td>\n",
       "      <td>0.398714</td>\n",
       "      <td>0.810289</td>\n",
       "      <td>0.434084</td>\n",
       "      <td>2.392283</td>\n",
       "      <td>4.610932</td>\n",
       "      <td>2.977492</td>\n",
       "      <td>0.093248</td>\n",
       "      <td>69020.684887</td>\n",
       "      <td>0.334405</td>\n",
       "      <td>16.845659</td>\n",
       "      <td>6555.482315</td>\n",
       "      <td>14.570957</td>\n",
       "      <td>4.110000</td>\n",
       "      <td>3.890675</td>\n",
       "      <td>1.218650</td>\n",
       "      <td>0.414791</td>\n",
       "      <td>10.237942</td>\n",
       "      <td>2012.688103</td>\n",
       "    </tr>\n",
       "    <tr>\n",
       "      <th>std</th>\n",
       "      <td>89.922189</td>\n",
       "      <td>0.490423</td>\n",
       "      <td>0.943239</td>\n",
       "      <td>0.496435</td>\n",
       "      <td>1.794383</td>\n",
       "      <td>1.083487</td>\n",
       "      <td>0.587072</td>\n",
       "      <td>0.291248</td>\n",
       "      <td>25156.636930</td>\n",
       "      <td>0.472542</td>\n",
       "      <td>6.223419</td>\n",
       "      <td>16908.396884</td>\n",
       "      <td>8.078306</td>\n",
       "      <td>0.789938</td>\n",
       "      <td>0.909241</td>\n",
       "      <td>2.349421</td>\n",
       "      <td>1.294519</td>\n",
       "      <td>5.852596</td>\n",
       "      <td>1.956582</td>\n",
       "    </tr>\n",
       "    <tr>\n",
       "      <th>min</th>\n",
       "      <td>10001.000000</td>\n",
       "      <td>0.000000</td>\n",
       "      <td>0.000000</td>\n",
       "      <td>0.000000</td>\n",
       "      <td>1.000000</td>\n",
       "      <td>1.000000</td>\n",
       "      <td>1.000000</td>\n",
       "      <td>0.000000</td>\n",
       "      <td>45046.000000</td>\n",
       "      <td>0.000000</td>\n",
       "      <td>1.000000</td>\n",
       "      <td>1013.000000</td>\n",
       "      <td>1.000000</td>\n",
       "      <td>1.120000</td>\n",
       "      <td>1.000000</td>\n",
       "      <td>0.000000</td>\n",
       "      <td>0.000000</td>\n",
       "      <td>1.000000</td>\n",
       "      <td>2006.000000</td>\n",
       "    </tr>\n",
       "    <tr>\n",
       "      <th>25%</th>\n",
       "      <td>10078.500000</td>\n",
       "      <td>0.000000</td>\n",
       "      <td>0.000000</td>\n",
       "      <td>0.000000</td>\n",
       "      <td>1.000000</td>\n",
       "      <td>5.000000</td>\n",
       "      <td>3.000000</td>\n",
       "      <td>0.000000</td>\n",
       "      <td>55501.500000</td>\n",
       "      <td>0.000000</td>\n",
       "      <td>18.000000</td>\n",
       "      <td>1901.500000</td>\n",
       "      <td>10.000000</td>\n",
       "      <td>3.690000</td>\n",
       "      <td>3.000000</td>\n",
       "      <td>0.000000</td>\n",
       "      <td>0.000000</td>\n",
       "      <td>5.000000</td>\n",
       "      <td>2011.000000</td>\n",
       "    </tr>\n",
       "    <tr>\n",
       "      <th>50%</th>\n",
       "      <td>10156.000000</td>\n",
       "      <td>0.000000</td>\n",
       "      <td>1.000000</td>\n",
       "      <td>0.000000</td>\n",
       "      <td>1.000000</td>\n",
       "      <td>5.000000</td>\n",
       "      <td>3.000000</td>\n",
       "      <td>0.000000</td>\n",
       "      <td>62810.000000</td>\n",
       "      <td>0.000000</td>\n",
       "      <td>19.000000</td>\n",
       "      <td>2132.000000</td>\n",
       "      <td>15.000000</td>\n",
       "      <td>4.280000</td>\n",
       "      <td>4.000000</td>\n",
       "      <td>0.000000</td>\n",
       "      <td>0.000000</td>\n",
       "      <td>10.000000</td>\n",
       "      <td>2013.000000</td>\n",
       "    </tr>\n",
       "    <tr>\n",
       "      <th>75%</th>\n",
       "      <td>10233.500000</td>\n",
       "      <td>1.000000</td>\n",
       "      <td>1.000000</td>\n",
       "      <td>1.000000</td>\n",
       "      <td>5.000000</td>\n",
       "      <td>5.000000</td>\n",
       "      <td>3.000000</td>\n",
       "      <td>0.000000</td>\n",
       "      <td>72036.000000</td>\n",
       "      <td>1.000000</td>\n",
       "      <td>20.000000</td>\n",
       "      <td>2355.000000</td>\n",
       "      <td>19.000000</td>\n",
       "      <td>4.700000</td>\n",
       "      <td>5.000000</td>\n",
       "      <td>0.000000</td>\n",
       "      <td>0.000000</td>\n",
       "      <td>15.000000</td>\n",
       "      <td>2014.000000</td>\n",
       "    </tr>\n",
       "    <tr>\n",
       "      <th>max</th>\n",
       "      <td>10311.000000</td>\n",
       "      <td>1.000000</td>\n",
       "      <td>4.000000</td>\n",
       "      <td>1.000000</td>\n",
       "      <td>5.000000</td>\n",
       "      <td>6.000000</td>\n",
       "      <td>4.000000</td>\n",
       "      <td>1.000000</td>\n",
       "      <td>250000.000000</td>\n",
       "      <td>1.000000</td>\n",
       "      <td>30.000000</td>\n",
       "      <td>98052.000000</td>\n",
       "      <td>39.000000</td>\n",
       "      <td>5.000000</td>\n",
       "      <td>5.000000</td>\n",
       "      <td>8.000000</td>\n",
       "      <td>6.000000</td>\n",
       "      <td>20.000000</td>\n",
       "      <td>2018.000000</td>\n",
       "    </tr>\n",
       "  </tbody>\n",
       "</table>\n",
       "</div>"
      ],
      "text/plain": [
       "              EmpID   MarriedID  MaritalStatusID    GenderID  EmpStatusID  \\\n",
       "count    311.000000  311.000000       311.000000  311.000000   311.000000   \n",
       "mean   10156.000000    0.398714         0.810289    0.434084     2.392283   \n",
       "std       89.922189    0.490423         0.943239    0.496435     1.794383   \n",
       "min    10001.000000    0.000000         0.000000    0.000000     1.000000   \n",
       "25%    10078.500000    0.000000         0.000000    0.000000     1.000000   \n",
       "50%    10156.000000    0.000000         1.000000    0.000000     1.000000   \n",
       "75%    10233.500000    1.000000         1.000000    1.000000     5.000000   \n",
       "max    10311.000000    1.000000         4.000000    1.000000     5.000000   \n",
       "\n",
       "           DeptID  PerfScoreID  FromDiversityJobFairID         Salary  \\\n",
       "count  311.000000   311.000000              311.000000     311.000000   \n",
       "mean     4.610932     2.977492                0.093248   69020.684887   \n",
       "std      1.083487     0.587072                0.291248   25156.636930   \n",
       "min      1.000000     1.000000                0.000000   45046.000000   \n",
       "25%      5.000000     3.000000                0.000000   55501.500000   \n",
       "50%      5.000000     3.000000                0.000000   62810.000000   \n",
       "75%      5.000000     3.000000                0.000000   72036.000000   \n",
       "max      6.000000     4.000000                1.000000  250000.000000   \n",
       "\n",
       "            Termd  PositionID           Zip   ManagerID  EngagementSurvey  \\\n",
       "count  311.000000  311.000000    311.000000  303.000000        311.000000   \n",
       "mean     0.334405   16.845659   6555.482315   14.570957          4.110000   \n",
       "std      0.472542    6.223419  16908.396884    8.078306          0.789938   \n",
       "min      0.000000    1.000000   1013.000000    1.000000          1.120000   \n",
       "25%      0.000000   18.000000   1901.500000   10.000000          3.690000   \n",
       "50%      0.000000   19.000000   2132.000000   15.000000          4.280000   \n",
       "75%      1.000000   20.000000   2355.000000   19.000000          4.700000   \n",
       "max      1.000000   30.000000  98052.000000   39.000000          5.000000   \n",
       "\n",
       "       EmpSatisfaction  SpecialProjectsCount  DaysLateLast30    Absences  \\\n",
       "count       311.000000            311.000000      311.000000  311.000000   \n",
       "mean          3.890675              1.218650        0.414791   10.237942   \n",
       "std           0.909241              2.349421        1.294519    5.852596   \n",
       "min           1.000000              0.000000        0.000000    1.000000   \n",
       "25%           3.000000              0.000000        0.000000    5.000000   \n",
       "50%           4.000000              0.000000        0.000000   10.000000   \n",
       "75%           5.000000              0.000000        0.000000   15.000000   \n",
       "max           5.000000              8.000000        6.000000   20.000000   \n",
       "\n",
       "              Year  \n",
       "count   311.000000  \n",
       "mean   2012.688103  \n",
       "std       1.956582  \n",
       "min    2006.000000  \n",
       "25%    2011.000000  \n",
       "50%    2013.000000  \n",
       "75%    2014.000000  \n",
       "max    2018.000000  "
      ]
     },
     "execution_count": 7,
     "metadata": {},
     "output_type": "execute_result"
    }
   ],
   "source": [
    "df_HR.describe()"
   ]
  },
  {
   "cell_type": "markdown",
   "id": "7272c4d2",
   "metadata": {},
   "source": [
    "#### Checkeo los nulos"
   ]
  },
  {
   "cell_type": "code",
   "execution_count": 8,
   "id": "454d818c",
   "metadata": {},
   "outputs": [
    {
     "data": {
      "text/plain": [
       "Employee_Name                   0\n",
       "EmpID                           0\n",
       "MarriedID                       0\n",
       "MaritalStatusID                 0\n",
       "GenderID                        0\n",
       "EmpStatusID                     0\n",
       "DeptID                          0\n",
       "PerfScoreID                     0\n",
       "FromDiversityJobFairID          0\n",
       "Salary                          0\n",
       "Termd                           0\n",
       "PositionID                      0\n",
       "Position                        0\n",
       "State                           0\n",
       "Zip                             0\n",
       "DOB                             0\n",
       "Sex                             0\n",
       "MaritalDesc                     0\n",
       "CitizenDesc                     0\n",
       "HispanicLatino                  0\n",
       "RaceDesc                        0\n",
       "DateofHire                      0\n",
       "DateofTermination             207\n",
       "TermReason                      0\n",
       "EmploymentStatus                0\n",
       "Department                      0\n",
       "ManagerName                     0\n",
       "ManagerID                       8\n",
       "RecruitmentSource               0\n",
       "PerformanceScore                0\n",
       "EngagementSurvey                0\n",
       "EmpSatisfaction                 0\n",
       "SpecialProjectsCount            0\n",
       "LastPerformanceReview_Date      0\n",
       "DaysLateLast30                  0\n",
       "Absences                        0\n",
       "Year                            0\n",
       "dtype: int64"
      ]
     },
     "execution_count": 8,
     "metadata": {},
     "output_type": "execute_result"
    }
   ],
   "source": [
    "df_HR.isnull().sum()"
   ]
  },
  {
   "cell_type": "markdown",
   "id": "ee1c350e",
   "metadata": {},
   "source": [
    "#### 2)Histograma de salarios"
   ]
  },
  {
   "cell_type": "markdown",
   "id": "e5dac8cb",
   "metadata": {},
   "source": [
    "#### Dada la columna de los salarios del personal"
   ]
  },
  {
   "cell_type": "code",
   "execution_count": 9,
   "id": "2a370854",
   "metadata": {},
   "outputs": [
    {
     "data": {
      "text/plain": [
       "0       62506\n",
       "1      104437\n",
       "2       64955\n",
       "3       64991\n",
       "4       50825\n",
       "        ...  \n",
       "306     65893\n",
       "307     48513\n",
       "308    220450\n",
       "309     89292\n",
       "310     45046\n",
       "Name: Salary, Length: 311, dtype: int64"
      ]
     },
     "execution_count": 9,
     "metadata": {},
     "output_type": "execute_result"
    }
   ],
   "source": [
    "df_HR['Salary']"
   ]
  },
  {
   "cell_type": "markdown",
   "id": "1f03ec27",
   "metadata": {},
   "source": [
    "#### Se grafica el histograma"
   ]
  },
  {
   "cell_type": "code",
   "execution_count": 10,
   "id": "f9136d10",
   "metadata": {},
   "outputs": [
    {
     "data": {
      "text/plain": [
       "Text(0, 0.5, 'Frecuencia absoluta')"
      ]
     },
     "execution_count": 10,
     "metadata": {},
     "output_type": "execute_result"
    },
    {
     "data": {
      "image/png": "[encoded data removed]",
      "text/plain": [
       "<Figure size 576x288 with 1 Axes>"
      ]
     },
     "metadata": {},
     "output_type": "display_data"
    }
   ],
   "source": [
    "fig, ax = plt.subplots(figsize=(8, 4))\n",
    "ax.hist(df_HR['Salary'].values.flatten(), bins=10)#Grafico de histograma\n",
    "ax.set_title('Histograma de salarios')\n",
    "ax.set_xlabel('Intervalos de salarios [$]')\n",
    "ax.set_ylabel('Frecuencia absoluta')"
   ]
  },
  {
   "cell_type": "markdown",
   "id": "a858c666",
   "metadata": {},
   "source": [
    "#### Rango de salario más popular es $50.000"
   ]
  },
  {
   "cell_type": "markdown",
   "id": "606fbdaf",
   "metadata": {},
   "source": [
    "#### 3)Grafico violín con los salarios discriminados por género"
   ]
  },
  {
   "cell_type": "markdown",
   "id": "eafca317",
   "metadata": {},
   "source": [
    "#### Grafico distribución salarios discriminado por genero"
   ]
  },
  {
   "cell_type": "code",
   "execution_count": 11,
   "id": "30bbe750",
   "metadata": {},
   "outputs": [
    {
     "data": {
      "text/plain": [
       "<seaborn.axisgrid.FacetGrid at 0x2aa5263c9a0>"
      ]
     },
     "execution_count": 11,
     "metadata": {},
     "output_type": "execute_result"
    },
    {
     "data": {
      "image/png": "[encoded data removed]",
      "text/plain": [
       "<Figure size 360x360 with 1 Axes>"
      ]
     },
     "metadata": {},
     "output_type": "display_data"
    }
   ],
   "source": [
    "ax = sns.catplot(data=df_HR, kind='violin', x='GenderID', y='Salary', hue='GenderID', split=True)\n",
    "ax.set(xlabel='Genero', ylabel='Distribución salarios', title='Distribución salarios por género')"
   ]
  },
  {
   "cell_type": "markdown",
   "id": "96b7e66a",
   "metadata": {},
   "source": [
    "#### Puede ser por año pero no se como hacer más ancho el gráfico"
   ]
  },
  {
   "cell_type": "code",
   "execution_count": 16,
   "id": "302850ab",
   "metadata": {},
   "outputs": [
    {
     "data": {
      "text/plain": [
       "<seaborn.axisgrid.FacetGrid at 0x2aa52872df0>"
      ]
     },
     "execution_count": 16,
     "metadata": {},
     "output_type": "execute_result"
    },
    {
     "data": {
      "image/png": "[encoded data removed]",
      "text/plain": [
       "<Figure size 420.8x360 with 1 Axes>"
      ]
     },
     "metadata": {},
     "output_type": "display_data"
    }
   ],
   "source": [
    "ax = sns.catplot(data=df_HR, kind='violin', x='Year', y='Salary', hue='GenderID', split=True)\n",
    "ax.set(xlabel='Año', ylabel='Distribución salarios', title='Distribución salarios por género')"
   ]
  },
  {
   "cell_type": "markdown",
   "id": "f322366e",
   "metadata": {},
   "source": [
    "#### 4)Contrataciones por fecha"
   ]
  },
  {
   "cell_type": "markdown",
   "id": "fba7baab",
   "metadata": {},
   "source": [
    "#### Defino el eje y para el gráfico"
   ]
  },
  {
   "cell_type": "code",
   "execution_count": 13,
   "id": "d85cdb88",
   "metadata": {},
   "outputs": [
    {
     "data": {
      "text/plain": [
       "Year\n",
       "2006     1\n",
       "2007     2\n",
       "2008     3\n",
       "2009     7\n",
       "2010     9\n",
       "2011    83\n",
       "2012    45\n",
       "2013    44\n",
       "2014    60\n",
       "2015    36\n",
       "2016    14\n",
       "2017     6\n",
       "2018     1\n",
       "Name: EmpID, dtype: int64"
      ]
     },
     "execution_count": 13,
     "metadata": {},
     "output_type": "execute_result"
    }
   ],
   "source": [
    "y = df_HR.groupby('Year')['EmpID'].count()\n",
    "y"
   ]
  },
  {
   "cell_type": "markdown",
   "id": "95a608b0",
   "metadata": {},
   "source": [
    "#### Grafico"
   ]
  },
  {
   "cell_type": "code",
   "execution_count": 14,
   "id": "f2a50314",
   "metadata": {},
   "outputs": [
    {
     "data": {
      "text/plain": [
       "[<matplotlib.lines.Line2D at 0x2aa528ad040>]"
      ]
     },
     "execution_count": 14,
     "metadata": {},
     "output_type": "execute_result"
    },
    {
     "data": {
      "image/png": "[encoded data removed]",
      "text/plain": [
       "<Figure size 864x288 with 1 Axes>"
      ]
     },
     "metadata": {},
     "output_type": "display_data"
    }
   ],
   "source": [
    "fig, ax = plt.subplots(figsize=(12,4))\n",
    "ax.plot(y,label='Cantidad contrataciones')\n",
    "#No defino eje x, pues en la tabla no los tengo acumulados por año"
   ]
  },
  {
   "cell_type": "markdown",
   "id": "a3feb809",
   "metadata": {},
   "source": [
    "#### Agrego etiquetas"
   ]
  },
  {
   "cell_type": "code",
   "execution_count": 15,
   "id": "9caf6f52",
   "metadata": {},
   "outputs": [
    {
     "data": {
      "image/png": "[encoded data removed]",
      "text/plain": [
       "<Figure size 864x288 with 1 Axes>"
      ]
     },
     "execution_count": 15,
     "metadata": {},
     "output_type": "execute_result"
    }
   ],
   "source": [
    "ax.set_xlabel('Año')\n",
    "ax.set_ylabel('Cantidad contrataciones')\n",
    "ax.set_title('Cantidad contrataciones por año')\n",
    "ax.legend(loc='upper right')#cambio localización de la etiqueta\n",
    "\n",
    "fig #Llamo al gráfico"
   ]
  },
  {
   "cell_type": "markdown",
   "id": "a41c3065",
   "metadata": {},
   "source": [
    "#### Mayor cantidad de contrataciones en 2011"
   ]
  }
 ],
 "metadata": {
  "kernelspec": {
   "display_name": "Python 3 (ipykernel)",
   "language": "python",
   "name": "python3"
  },
  "language_info": {
   "codemirror_mode": {
    "name": "ipython",
    "version": 3
   },
   "file_extension": ".py",
   "mimetype": "text/x-python",
   "name": "python",
   "nbconvert_exporter": "python",
   "pygments_lexer": "ipython3",
   "version": "3.9.5"
  }
 },
 "nbformat": 4,
 "nbformat_minor": 5
}
