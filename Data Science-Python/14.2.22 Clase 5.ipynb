{
 "cells": [
  {
   "cell_type": "markdown",
   "id": "31bfddcb",
   "metadata": {},
   "source": [
    "# Clase 5 Manipulación de datos con pandas I"
   ]
  },
  {
   "cell_type": "code",
   "execution_count": 1,
   "id": "dc1be946",
   "metadata": {},
   "outputs": [],
   "source": [
    "#Importar las librerias\n",
    "import pandas as pd\n",
    "import numpy as np"
   ]
  },
  {
   "cell_type": "code",
   "execution_count": 4,
   "id": "b655ab89",
   "metadata": {},
   "outputs": [
    {
     "data": {
      "text/plain": [
       "array([1, 2, 3])"
      ]
     },
     "execution_count": 4,
     "metadata": {},
     "output_type": "execute_result"
    }
   ],
   "source": [
    "a = np.array([1,2,3])\n",
    "a"
   ]
  },
  {
   "cell_type": "code",
   "execution_count": 7,
   "id": "d16163b2",
   "metadata": {},
   "outputs": [
    {
     "data": {
      "text/plain": [
       "array([[1.5, 2. , 3. ],\n",
       "       [4. , 5. , 6. ]])"
      ]
     },
     "execution_count": 7,
     "metadata": {},
     "output_type": "execute_result"
    }
   ],
   "source": [
    "b = np.array([(1.5,2,3),(4,5,6)], dtype=float)\n",
    "b"
   ]
  },
  {
   "cell_type": "code",
   "execution_count": null,
   "id": "393364b2",
   "metadata": {},
   "outputs": [],
   "source": []
  },
  {
   "cell_type": "code",
   "execution_count": null,
   "id": "5f6480ed",
   "metadata": {},
   "outputs": [],
   "source": []
  },
  {
   "cell_type": "code",
   "execution_count": null,
   "id": "05ba12ff",
   "metadata": {},
   "outputs": [],
   "source": []
  },
  {
   "cell_type": "markdown",
   "id": "e1691d98",
   "metadata": {},
   "source": [
    "###### Series"
   ]
  },
  {
   "cell_type": "code",
   "execution_count": 7,
   "id": "43b698b7",
   "metadata": {},
   "outputs": [
    {
     "data": {
      "text/html": [
       "<div>\n",
       "<style scoped>\n",
       "    .dataframe tbody tr th:only-of-type {\n",
       "        vertical-align: middle;\n",
       "    }\n",
       "\n",
       "    .dataframe tbody tr th {\n",
       "        vertical-align: top;\n",
       "    }\n",
       "\n",
       "    .dataframe thead th {\n",
       "        text-align: right;\n",
       "    }\n",
       "</style>\n",
       "<table border=\"1\" class=\"dataframe\">\n",
       "  <thead>\n",
       "    <tr style=\"text-align: right;\">\n",
       "      <th></th>\n",
       "      <th>link_match</th>\n",
       "      <th>season</th>\n",
       "      <th>date</th>\n",
       "      <th>home_team</th>\n",
       "      <th>away_team</th>\n",
       "      <th>result_full</th>\n",
       "      <th>result_ht</th>\n",
       "      <th>home_clearances</th>\n",
       "      <th>home_corners</th>\n",
       "      <th>home_fouls_conceded</th>\n",
       "      <th>...</th>\n",
       "      <th>tackles_avg_away</th>\n",
       "      <th>touches_avg_away</th>\n",
       "      <th>yellow_cards_avg_away</th>\n",
       "      <th>goals_scored_ft_avg_away</th>\n",
       "      <th>goals_conced_ft_avg_away</th>\n",
       "      <th>sg_match_ft_acum_away</th>\n",
       "      <th>goals_scored_ht_avg_away</th>\n",
       "      <th>goals_conced_ht_avg_away</th>\n",
       "      <th>sg_match_ht_acum_away</th>\n",
       "      <th>performance_acum_away</th>\n",
       "    </tr>\n",
       "  </thead>\n",
       "  <tbody>\n",
       "    <tr>\n",
       "      <th>0</th>\n",
       "      <td>https://www.premierleague.com/match/7186</td>\n",
       "      <td>10/11</td>\n",
       "      <td>2010-11-01</td>\n",
       "      <td>Blackpool</td>\n",
       "      <td>West Bromwich Albion</td>\n",
       "      <td>2-1</td>\n",
       "      <td>1-0</td>\n",
       "      <td>15.0</td>\n",
       "      <td>8.0</td>\n",
       "      <td>16.0</td>\n",
       "      <td>...</td>\n",
       "      <td>20.0</td>\n",
       "      <td>584.9</td>\n",
       "      <td>1.6</td>\n",
       "      <td>1.44</td>\n",
       "      <td>1.67</td>\n",
       "      <td>-2.0</td>\n",
       "      <td>0.33</td>\n",
       "      <td>0.78</td>\n",
       "      <td>-4.0</td>\n",
       "      <td>55.6</td>\n",
       "    </tr>\n",
       "    <tr>\n",
       "      <th>1</th>\n",
       "      <td>https://www.premierleague.com/match/7404</td>\n",
       "      <td>10/11</td>\n",
       "      <td>2011-04-11</td>\n",
       "      <td>Liverpool</td>\n",
       "      <td>Manchester City</td>\n",
       "      <td>3-0</td>\n",
       "      <td>3-0</td>\n",
       "      <td>16.0</td>\n",
       "      <td>6.0</td>\n",
       "      <td>6.0</td>\n",
       "      <td>...</td>\n",
       "      <td>22.0</td>\n",
       "      <td>681.4</td>\n",
       "      <td>2.0</td>\n",
       "      <td>1.61</td>\n",
       "      <td>0.87</td>\n",
       "      <td>23.0</td>\n",
       "      <td>0.87</td>\n",
       "      <td>0.32</td>\n",
       "      <td>17.0</td>\n",
       "      <td>60.2</td>\n",
       "    </tr>\n",
       "    <tr>\n",
       "      <th>2</th>\n",
       "      <td>https://www.premierleague.com/match/7255</td>\n",
       "      <td>10/11</td>\n",
       "      <td>2010-12-13</td>\n",
       "      <td>Manchester United</td>\n",
       "      <td>Arsenal</td>\n",
       "      <td>1-0</td>\n",
       "      <td>1-0</td>\n",
       "      <td>26.0</td>\n",
       "      <td>5.0</td>\n",
       "      <td>9.0</td>\n",
       "      <td>...</td>\n",
       "      <td>21.2</td>\n",
       "      <td>748.0</td>\n",
       "      <td>1.8</td>\n",
       "      <td>2.12</td>\n",
       "      <td>1.12</td>\n",
       "      <td>16.0</td>\n",
       "      <td>0.94</td>\n",
       "      <td>0.38</td>\n",
       "      <td>9.0</td>\n",
       "      <td>66.7</td>\n",
       "    </tr>\n",
       "    <tr>\n",
       "      <th>3</th>\n",
       "      <td>https://www.premierleague.com/match/7126</td>\n",
       "      <td>10/11</td>\n",
       "      <td>2010-09-13</td>\n",
       "      <td>Stoke City</td>\n",
       "      <td>Aston Villa</td>\n",
       "      <td>2-1</td>\n",
       "      <td>0-1</td>\n",
       "      <td>26.0</td>\n",
       "      <td>8.0</td>\n",
       "      <td>12.0</td>\n",
       "      <td>...</td>\n",
       "      <td>25.0</td>\n",
       "      <td>567.3</td>\n",
       "      <td>2.0</td>\n",
       "      <td>1.33</td>\n",
       "      <td>2.00</td>\n",
       "      <td>-2.0</td>\n",
       "      <td>1.00</td>\n",
       "      <td>1.00</td>\n",
       "      <td>0.0</td>\n",
       "      <td>66.7</td>\n",
       "    </tr>\n",
       "    <tr>\n",
       "      <th>4</th>\n",
       "      <td>https://www.premierleague.com/match/7350</td>\n",
       "      <td>10/11</td>\n",
       "      <td>2011-02-14</td>\n",
       "      <td>Fulham</td>\n",
       "      <td>Chelsea</td>\n",
       "      <td>0-0</td>\n",
       "      <td>0-0</td>\n",
       "      <td>50.0</td>\n",
       "      <td>4.0</td>\n",
       "      <td>11.0</td>\n",
       "      <td>...</td>\n",
       "      <td>19.4</td>\n",
       "      <td>728.6</td>\n",
       "      <td>1.4</td>\n",
       "      <td>1.84</td>\n",
       "      <td>0.88</td>\n",
       "      <td>24.0</td>\n",
       "      <td>0.84</td>\n",
       "      <td>0.48</td>\n",
       "      <td>9.0</td>\n",
       "      <td>58.7</td>\n",
       "    </tr>\n",
       "  </tbody>\n",
       "</table>\n",
       "<p>5 rows × 113 columns</p>\n",
       "</div>"
      ],
      "text/plain": [
       "                                 link_match season        date  \\\n",
       "0  https://www.premierleague.com/match/7186  10/11  2010-11-01   \n",
       "1  https://www.premierleague.com/match/7404  10/11  2011-04-11   \n",
       "2  https://www.premierleague.com/match/7255  10/11  2010-12-13   \n",
       "3  https://www.premierleague.com/match/7126  10/11  2010-09-13   \n",
       "4  https://www.premierleague.com/match/7350  10/11  2011-02-14   \n",
       "\n",
       "           home_team             away_team result_full result_ht  \\\n",
       "0          Blackpool  West Bromwich Albion         2-1       1-0   \n",
       "1          Liverpool       Manchester City         3-0       3-0   \n",
       "2  Manchester United               Arsenal         1-0       1-0   \n",
       "3         Stoke City           Aston Villa         2-1       0-1   \n",
       "4             Fulham               Chelsea         0-0       0-0   \n",
       "\n",
       "   home_clearances  home_corners  home_fouls_conceded  ...  tackles_avg_away  \\\n",
       "0             15.0           8.0                 16.0  ...              20.0   \n",
       "1             16.0           6.0                  6.0  ...              22.0   \n",
       "2             26.0           5.0                  9.0  ...              21.2   \n",
       "3             26.0           8.0                 12.0  ...              25.0   \n",
       "4             50.0           4.0                 11.0  ...              19.4   \n",
       "\n",
       "   touches_avg_away  yellow_cards_avg_away  goals_scored_ft_avg_away  \\\n",
       "0             584.9                    1.6                      1.44   \n",
       "1             681.4                    2.0                      1.61   \n",
       "2             748.0                    1.8                      2.12   \n",
       "3             567.3                    2.0                      1.33   \n",
       "4             728.6                    1.4                      1.84   \n",
       "\n",
       "   goals_conced_ft_avg_away  sg_match_ft_acum_away  goals_scored_ht_avg_away  \\\n",
       "0                      1.67                   -2.0                      0.33   \n",
       "1                      0.87                   23.0                      0.87   \n",
       "2                      1.12                   16.0                      0.94   \n",
       "3                      2.00                   -2.0                      1.00   \n",
       "4                      0.88                   24.0                      0.84   \n",
       "\n",
       "   goals_conced_ht_avg_away  sg_match_ht_acum_away  performance_acum_away  \n",
       "0                      0.78                   -4.0                   55.6  \n",
       "1                      0.32                   17.0                   60.2  \n",
       "2                      0.38                    9.0                   66.7  \n",
       "3                      1.00                    0.0                   66.7  \n",
       "4                      0.48                    9.0                   58.7  \n",
       "\n",
       "[5 rows x 113 columns]"
      ]
     },
     "execution_count": 7,
     "metadata": {},
     "output_type": "execute_result"
    }
   ],
   "source": [
    "premier = pd.read_csv(\"df_full_premierleague.csv\", index_col=0)\n",
    "premier.head()"
   ]
  },
  {
   "cell_type": "code",
   "execution_count": 8,
   "id": "d322ae2f",
   "metadata": {},
   "outputs": [
    {
     "data": {
      "text/plain": [
       "(4070, 113)"
      ]
     },
     "execution_count": 8,
     "metadata": {},
     "output_type": "execute_result"
    }
   ],
   "source": [
    "premier.shape"
   ]
  },
  {
   "cell_type": "code",
   "execution_count": 11,
   "id": "202bf179",
   "metadata": {},
   "outputs": [
    {
     "data": {
      "text/plain": [
       "Index(['link_match', 'season', 'date', 'home_team', 'away_team', 'result_full',\n",
       "       'result_ht', 'home_clearances', 'home_corners', 'home_fouls_conceded',\n",
       "       'home_offsides', 'home_passes', 'home_possession', 'home_red_cards',\n",
       "       'home_shots', 'home_shots_on_target', 'home_tackles', 'home_touches',\n",
       "       'home_yellow_cards', 'away_clearances', 'away_corners',\n",
       "       'away_fouls_conceded', 'away_offsides', 'away_passes',\n",
       "       'away_possession', 'away_red_cards', 'away_shots',\n",
       "       'away_shots_on_target', 'away_tackles', 'away_touches'],\n",
       "      dtype='object')"
      ]
     },
     "execution_count": 11,
     "metadata": {},
     "output_type": "execute_result"
    }
   ],
   "source": [
    "premier.columns[:30]"
   ]
  },
  {
   "cell_type": "code",
   "execution_count": 10,
   "id": "607d48c4",
   "metadata": {},
   "outputs": [
    {
     "data": {
      "text/plain": [
       "link_match                object\n",
       "season                    object\n",
       "date                      object\n",
       "home_team                 object\n",
       "away_team                 object\n",
       "result_full               object\n",
       "result_ht                 object\n",
       "home_clearances          float64\n",
       "home_corners             float64\n",
       "home_fouls_conceded      float64\n",
       "home_offsides            float64\n",
       "home_passes              float64\n",
       "home_possession          float64\n",
       "home_red_cards           float64\n",
       "home_shots               float64\n",
       "home_shots_on_target     float64\n",
       "home_tackles             float64\n",
       "home_touches             float64\n",
       "home_yellow_cards        float64\n",
       "away_clearances          float64\n",
       "away_corners             float64\n",
       "away_fouls_conceded      float64\n",
       "away_offsides            float64\n",
       "away_passes              float64\n",
       "away_possession          float64\n",
       "away_red_cards           float64\n",
       "away_shots               float64\n",
       "away_shots_on_target     float64\n",
       "away_tackles             float64\n",
       "away_touches             float64\n",
       "away_yellow_cards        float64\n",
       "goal_home_ft               int64\n",
       "goal_away_ft               int64\n",
       "sg_match_ft                int64\n",
       "goal_home_ht               int64\n",
       "goal_away_ht               int64\n",
       "sg_match_ht                int64\n",
       "clearances_avg_H         float64\n",
       "corners_avg_H            float64\n",
       "fouls_conceded_avg_H     float64\n",
       "offsides_avg_H           float64\n",
       "passes_avg_H             float64\n",
       "possession_avg_H         float64\n",
       "red_cards_avg_H          float64\n",
       "shots_avg_H              float64\n",
       "shots_on_target_avg_H    float64\n",
       "tackles_avg_H            float64\n",
       "touches_avg_H            float64\n",
       "yellow_cards_avg_H       float64\n",
       "goals_scored_ft_avg_H    float64\n",
       "goals_conced_ft_avg_H    float64\n",
       "sg_match_ft_acum_H       float64\n",
       "goals_scored_ht_avg_H    float64\n",
       "goals_conced_ht_avg_H    float64\n",
       "sg_match_ht_acum_H       float64\n",
       "performance_acum_H       float64\n",
       "clearances_avg_A         float64\n",
       "corners_avg_A            float64\n",
       "fouls_conceded_avg_A     float64\n",
       "offsides_avg_A           float64\n",
       "dtype: object"
      ]
     },
     "execution_count": 10,
     "metadata": {},
     "output_type": "execute_result"
    }
   ],
   "source": [
    "premier.dtypes[0:60]"
   ]
  },
  {
   "cell_type": "code",
   "execution_count": 14,
   "id": "758fc28e",
   "metadata": {},
   "outputs": [
    {
     "data": {
      "text/plain": [
       "away_yellow_cards          0\n",
       "goal_home_ft               0\n",
       "goal_away_ft               0\n",
       "sg_match_ft                0\n",
       "goal_home_ht               0\n",
       "goal_away_ht               0\n",
       "sg_match_ht                0\n",
       "clearances_avg_H         220\n",
       "corners_avg_H            220\n",
       "fouls_conceded_avg_H     220\n",
       "offsides_avg_H           220\n",
       "passes_avg_H             220\n",
       "possession_avg_H         220\n",
       "red_cards_avg_H          220\n",
       "shots_avg_H              220\n",
       "shots_on_target_avg_H    220\n",
       "tackles_avg_H            220\n",
       "touches_avg_H            220\n",
       "yellow_cards_avg_H       220\n",
       "goals_scored_ft_avg_H    220\n",
       "goals_conced_ft_avg_H    220\n",
       "sg_match_ft_acum_H       220\n",
       "goals_scored_ht_avg_H    220\n",
       "goals_conced_ht_avg_H    220\n",
       "sg_match_ht_acum_H       220\n",
       "performance_acum_H       220\n",
       "clearances_avg_A         220\n",
       "corners_avg_A            220\n",
       "fouls_conceded_avg_A     220\n",
       "offsides_avg_A           220\n",
       "dtype: int64"
      ]
     },
     "execution_count": 14,
     "metadata": {},
     "output_type": "execute_result"
    }
   ],
   "source": [
    "premier.isnull().sum()[30:60]"
   ]
  },
  {
   "cell_type": "code",
   "execution_count": 20,
   "id": "669f4bb5",
   "metadata": {},
   "outputs": [
    {
     "data": {
      "text/plain": [
       "10/11    380\n",
       "11/12    380\n",
       "12/13    380\n",
       "13/14    380\n",
       "14/15    380\n",
       "16/17    380\n",
       "17/18    380\n",
       "18/19    380\n",
       "19/20    380\n",
       "15/16    379\n",
       "20/21    271\n",
       "Name: season, dtype: int64"
      ]
     },
     "execution_count": 20,
     "metadata": {},
     "output_type": "execute_result"
    }
   ],
   "source": [
    "premier['season'].value_counts()"
   ]
  },
  {
   "cell_type": "code",
   "execution_count": 21,
   "id": "67b5b166",
   "metadata": {},
   "outputs": [
    {
     "ename": "ModuleNotFoundError",
     "evalue": "No module named 'matplotlib'",
     "output_type": "error",
     "traceback": [
      "\u001b[1;31m---------------------------------------------------------------------------\u001b[0m",
      "\u001b[1;31mModuleNotFoundError\u001b[0m                       Traceback (most recent call last)",
      "Input \u001b[1;32mIn [21]\u001b[0m, in \u001b[0;36m<module>\u001b[1;34m\u001b[0m\n\u001b[1;32m----> 1\u001b[0m \u001b[38;5;28;01mimport\u001b[39;00m \u001b[38;5;21;01mmatplotlib\u001b[39;00m\u001b[38;5;21;01m.\u001b[39;00m\u001b[38;5;21;01mpyplot\u001b[39;00m \u001b[38;5;28;01mas\u001b[39;00m \u001b[38;5;21;01mplt\u001b[39;00m\n\u001b[0;32m      2\u001b[0m \u001b[38;5;28;01mimport\u001b[39;00m \u001b[38;5;21;01mseaborn\u001b[39;00m \u001b[38;5;28;01mas\u001b[39;00m \u001b[38;5;21;01msns\u001b[39;00m\n",
      "\u001b[1;31mModuleNotFoundError\u001b[0m: No module named 'matplotlib'"
     ]
    }
   ],
   "source": [
    "import matplotlib.pyplot as plt\n",
    "import seaborn as sns"
   ]
  },
  {
   "cell_type": "code",
   "execution_count": null,
   "id": "66fb0ed5",
   "metadata": {},
   "outputs": [],
   "source": []
  },
  {
   "cell_type": "markdown",
   "id": "beb29237",
   "metadata": {},
   "source": [
    "###### Conjunto de datos vinos"
   ]
  },
  {
   "cell_type": "code",
   "execution_count": 19,
   "id": "a1a12a8c",
   "metadata": {},
   "outputs": [
    {
     "data": {
      "text/html": [
       "<div>\n",
       "<style scoped>\n",
       "    .dataframe tbody tr th:only-of-type {\n",
       "        vertical-align: middle;\n",
       "    }\n",
       "\n",
       "    .dataframe tbody tr th {\n",
       "        vertical-align: top;\n",
       "    }\n",
       "\n",
       "    .dataframe thead th {\n",
       "        text-align: right;\n",
       "    }\n",
       "</style>\n",
       "<table border=\"1\" class=\"dataframe\">\n",
       "  <thead>\n",
       "    <tr style=\"text-align: right;\">\n",
       "      <th></th>\n",
       "      <th>Alcohol</th>\n",
       "      <th>Malic_acid</th>\n",
       "      <th>Ash</th>\n",
       "      <th>Alcalinity</th>\n",
       "      <th>Magnesium</th>\n",
       "      <th>Phenols</th>\n",
       "      <th>Flavanoids</th>\n",
       "      <th>Nonflavanoid</th>\n",
       "      <th>Proanthocyanins</th>\n",
       "      <th>Color</th>\n",
       "      <th>Hue</th>\n",
       "      <th>OD280/OD315</th>\n",
       "      <th>Proline</th>\n",
       "    </tr>\n",
       "    <tr>\n",
       "      <th>Class</th>\n",
       "      <th></th>\n",
       "      <th></th>\n",
       "      <th></th>\n",
       "      <th></th>\n",
       "      <th></th>\n",
       "      <th></th>\n",
       "      <th></th>\n",
       "      <th></th>\n",
       "      <th></th>\n",
       "      <th></th>\n",
       "      <th></th>\n",
       "      <th></th>\n",
       "      <th></th>\n",
       "    </tr>\n",
       "  </thead>\n",
       "  <tbody>\n",
       "    <tr>\n",
       "      <th>1</th>\n",
       "      <td>14.23</td>\n",
       "      <td>1.71</td>\n",
       "      <td>2.43</td>\n",
       "      <td>15.6</td>\n",
       "      <td>127</td>\n",
       "      <td>2.80</td>\n",
       "      <td>3.06</td>\n",
       "      <td>0.28</td>\n",
       "      <td>2.29</td>\n",
       "      <td>5.64</td>\n",
       "      <td>1.04</td>\n",
       "      <td>3.92</td>\n",
       "      <td>1065</td>\n",
       "    </tr>\n",
       "    <tr>\n",
       "      <th>1</th>\n",
       "      <td>13.20</td>\n",
       "      <td>1.78</td>\n",
       "      <td>2.14</td>\n",
       "      <td>11.2</td>\n",
       "      <td>100</td>\n",
       "      <td>2.65</td>\n",
       "      <td>2.76</td>\n",
       "      <td>0.26</td>\n",
       "      <td>1.28</td>\n",
       "      <td>4.38</td>\n",
       "      <td>1.05</td>\n",
       "      <td>3.40</td>\n",
       "      <td>1050</td>\n",
       "    </tr>\n",
       "    <tr>\n",
       "      <th>1</th>\n",
       "      <td>13.16</td>\n",
       "      <td>2.36</td>\n",
       "      <td>2.67</td>\n",
       "      <td>18.6</td>\n",
       "      <td>101</td>\n",
       "      <td>2.80</td>\n",
       "      <td>3.24</td>\n",
       "      <td>0.30</td>\n",
       "      <td>2.81</td>\n",
       "      <td>5.68</td>\n",
       "      <td>1.03</td>\n",
       "      <td>3.17</td>\n",
       "      <td>1185</td>\n",
       "    </tr>\n",
       "    <tr>\n",
       "      <th>1</th>\n",
       "      <td>14.37</td>\n",
       "      <td>1.95</td>\n",
       "      <td>2.50</td>\n",
       "      <td>16.8</td>\n",
       "      <td>113</td>\n",
       "      <td>3.85</td>\n",
       "      <td>3.49</td>\n",
       "      <td>0.24</td>\n",
       "      <td>2.18</td>\n",
       "      <td>7.80</td>\n",
       "      <td>0.86</td>\n",
       "      <td>3.45</td>\n",
       "      <td>1480</td>\n",
       "    </tr>\n",
       "    <tr>\n",
       "      <th>1</th>\n",
       "      <td>13.24</td>\n",
       "      <td>2.59</td>\n",
       "      <td>2.87</td>\n",
       "      <td>21.0</td>\n",
       "      <td>118</td>\n",
       "      <td>2.80</td>\n",
       "      <td>2.69</td>\n",
       "      <td>0.39</td>\n",
       "      <td>1.82</td>\n",
       "      <td>4.32</td>\n",
       "      <td>1.04</td>\n",
       "      <td>2.93</td>\n",
       "      <td>735</td>\n",
       "    </tr>\n",
       "  </tbody>\n",
       "</table>\n",
       "</div>"
      ],
      "text/plain": [
       "       Alcohol   Malic_acid   Ash   Alcalinity   Magnesium   Phenols  \\\n",
       "Class                                                                  \n",
       "1        14.23         1.71  2.43         15.6         127      2.80   \n",
       "1        13.20         1.78  2.14         11.2         100      2.65   \n",
       "1        13.16         2.36  2.67         18.6         101      2.80   \n",
       "1        14.37         1.95  2.50         16.8         113      3.85   \n",
       "1        13.24         2.59  2.87         21.0         118      2.80   \n",
       "\n",
       "        Flavanoids   Nonflavanoid   Proanthocyanins  Color   Hue  \\\n",
       "Class                                                              \n",
       "1             3.06           0.28              2.29   5.64  1.04   \n",
       "1             2.76           0.26              1.28   4.38  1.05   \n",
       "1             3.24           0.30              2.81   5.68  1.03   \n",
       "1             3.49           0.24              2.18   7.80  0.86   \n",
       "1             2.69           0.39              1.82   4.32  1.04   \n",
       "\n",
       "        OD280/OD315   Proline      \n",
       "Class                              \n",
       "1              3.92          1065  \n",
       "1              3.40          1050  \n",
       "1              3.17          1185  \n",
       "1              3.45          1480  \n",
       "1              2.93           735  "
      ]
     },
     "execution_count": 19,
     "metadata": {},
     "output_type": "execute_result"
    }
   ],
   "source": [
    "vinos = pd.read_csv(\"wine.data.txt\", index_col=0)\n",
    "vinos.head()"
   ]
  },
  {
   "cell_type": "code",
   "execution_count": null,
   "id": "c252dee1",
   "metadata": {},
   "outputs": [],
   "source": []
  }
 ],
 "metadata": {
  "kernelspec": {
   "display_name": "Python 3 (ipykernel)",
   "language": "python",
   "name": "python3"
  },
  "language_info": {
   "codemirror_mode": {
    "name": "ipython",
    "version": 3
   },
   "file_extension": ".py",
   "mimetype": "text/x-python",
   "name": "python",
   "nbconvert_exporter": "python",
   "pygments_lexer": "ipython3",
   "version": "3.9.5"
  }
 },
 "nbformat": 4,
 "nbformat_minor": 5
}
